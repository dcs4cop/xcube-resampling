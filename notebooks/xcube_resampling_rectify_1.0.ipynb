{
 "cells": [
  {
   "cell_type": "markdown",
   "id": "2eff7925-eade-4189-b313-1c29d8aed955",
   "metadata": {},
   "source": [
    "# xcube resampling test - rectification of an OLCI scene to EPSG:4326"
   ]
  },
  {
   "cell_type": "code",
   "execution_count": null,
   "id": "878048d0-955a-4da8-89ee-65f73bda05a7",
   "metadata": {},
   "outputs": [],
   "source": [
    "import glob\n",
    "import xarray as xr\n",
    "import numpy as np\n",
    "import dask.array as da\n",
    "import pyproj\n",
    "import matplotlib.pyplot as plt\n",
    "from dask.distributed import Client\n",
    "from xcube_resampling.grid import Grid\n",
    "from xcube_resampling.rectifier import Rectifier"
   ]
  },
  {
   "cell_type": "code",
   "execution_count": null,
   "id": "7a3885f9-482e-472f-a383-132a57ba55a9",
   "metadata": {},
   "outputs": [],
   "source": [
    "%%time\n",
    "path = '/windows/tmp/eopf/S3A_OL_1_EFR____20210801T102426_20210801T102726_20210802T141313_0179_074_336_2160_LN1_O_NT_002.SEN3'\n",
    "l1b = xr.open_mfdataset([path + '/geo_coordinates.nc'] +\n",
    "                        [(path + '/Oa{:02d}_radiance.nc'.format(x)) for x in range(1, 22)],\n",
    "                       chunks=2048)"
   ]
  },
  {
   "cell_type": "code",
   "execution_count": null,
   "id": "19cac8ba-d488-47b8-8857-0ac17e4c2c59",
   "metadata": {},
   "outputs": [],
   "source": [
    "l1b"
   ]
  },
  {
   "cell_type": "code",
   "execution_count": null,
   "id": "46443317-59fa-4cf3-ade5-0272fb130596",
   "metadata": {},
   "outputs": [],
   "source": [
    "%%time\n",
    "#dst_grid = Grid(pyproj.CRS(\"EPSG:4326\"), (0, 0), (0.003, -0.003), (0, 0), (2400, 2400))\n",
    "dst_grid = Grid(pyproj.CRS(\"EPSG:4326\"), (-10.863, 52.449), (0.003, -0.003), (6667, 4304), (2400, 2400))\n",
    "r = Rectifier(l1b['longitude'].data, l1b['latitude'].data, dst_grid)\n",
    "r.prepare_forward_index()\n",
    "r.prepare_src_bboxes()\n",
    "r.compute_forward_index()\n",
    "#r.determine_covering_dst_grid()\n",
    "print(r.dst_grid)"
   ]
  },
  {
   "cell_type": "code",
   "execution_count": null,
   "id": "40a9a74c-7531-4160-8bc9-d057ba931943",
   "metadata": {},
   "outputs": [],
   "source": [
    "%time\n",
    "r.prepare_inverse_index()"
   ]
  },
  {
   "cell_type": "code",
   "execution_count": null,
   "id": "fdb65350-e59a-430e-a120-f80fc8100342",
   "metadata": {},
   "outputs": [],
   "source": [
    "%%time\n",
    "r.prepare_rectification(l1b['Oa12_radiance'].data, l1b['Oa08_radiance'].data)"
   ]
  },
  {
   "cell_type": "code",
   "execution_count": null,
   "id": "5b69306a-1f89-43e2-b755-9fea12736954",
   "metadata": {},
   "outputs": [],
   "source": [
    "r.dask_rectified.visualize()"
   ]
  },
  {
   "cell_type": "code",
   "execution_count": null,
   "id": "39f72f02-a423-4c2c-aaca-d5ea306346b5",
   "metadata": {},
   "outputs": [],
   "source": [
    "%%time\n",
    "result = r.compute_rectification()\n",
    "result"
   ]
  },
  {
   "cell_type": "code",
   "execution_count": null,
   "id": "e82bc78d-a34a-4755-8bd0-67d06e13dd46",
   "metadata": {},
   "outputs": [],
   "source": [
    "%matplotlib inline\n",
    "fig = plt.figure(figsize=(5, 5))\n",
    "plt.imshow(result[1], cmap='RdYlGn');"
   ]
  },
  {
   "cell_type": "code",
   "execution_count": null,
   "id": "a3c2f467-cb68-4288-8cac-9a467c7be2b6",
   "metadata": {},
   "outputs": [],
   "source": [
    "%matplotlib inline\n",
    "fig = plt.figure(figsize=(4, 4))\n",
    "plt.imshow(l1b['Oa12_radiance'], cmap='RdYlGn');"
   ]
  },
  {
   "cell_type": "code",
   "execution_count": null,
   "id": "970c26a3-deff-4dde-9c0e-81750e76a15b",
   "metadata": {},
   "outputs": [],
   "source": []
  }
 ],
 "metadata": {
  "kernelspec": {
   "display_name": "xcube-resampling",
   "language": "python",
   "name": "xcube-resampling"
  },
  "language_info": {
   "codemirror_mode": {
    "name": "ipython",
    "version": 3
   },
   "file_extension": ".py",
   "mimetype": "text/x-python",
   "name": "python",
   "nbconvert_exporter": "python",
   "pygments_lexer": "ipython3",
   "version": "3.10.0"
  }
 },
 "nbformat": 4,
 "nbformat_minor": 5
}
