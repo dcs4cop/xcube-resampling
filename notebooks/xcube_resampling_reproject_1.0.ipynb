{
 "cells": [
  {
   "cell_type": "markdown",
   "id": "2eff7925-eade-4189-b313-1c29d8aed955",
   "metadata": {},
   "source": [
    "# xcube resampling test - reprojection of an MSI scene to EPSG:4326"
   ]
  },
  {
   "cell_type": "code",
   "execution_count": null,
   "id": "878048d0-955a-4da8-89ee-65f73bda05a7",
   "metadata": {},
   "outputs": [],
   "source": [
    "import glob\n",
    "import xarray as xr\n",
    "import numpy as np\n",
    "import dask.array as da\n",
    "import pyproj\n",
    "import matplotlib.pyplot as plt\n",
    "from dask.distributed import Client\n",
    "from xcube_resampling.grid import Axis, Grid\n",
    "from xcube_resampling.reprojector import Reprojector"
   ]
  },
  {
   "cell_type": "code",
   "execution_count": null,
   "id": "7a3885f9-482e-472f-a383-132a57ba55a9",
   "metadata": {},
   "outputs": [],
   "source": [
    "%%time\n",
    "#path = \"../eopf_product_data_structure1/output/S2B_MSIL1C_20211122T043109_N0301_R133_T45QYD_20211122T063333.zarr/Measurements/Reflectances10m\"\n",
    "path = '/windows/tmp/eopf/S2B_MSIL1C_20211122T043109_N0301_R133_T45QYD_20211122T063333.zarr/Measurements/Reflectances10m'\n",
    "l1c = xr.open_zarr(path, chunks={\"row\": 687*4, \"column\": 1373*4}, consolidated=False)"
   ]
  },
  {
   "cell_type": "code",
   "execution_count": null,
   "id": "19cac8ba-d488-47b8-8857-0ac17e4c2c59",
   "metadata": {},
   "outputs": [],
   "source": [
    "l1c"
   ]
  },
  {
   "cell_type": "markdown",
   "id": "1aa95736-7115-465f-91e7-25603ba2e639",
   "metadata": {},
   "source": [
    "We guess the source grid. It could be read from the input somehow.\n",
    "We are south of Kalkutta."
   ]
  },
  {
   "cell_type": "code",
   "execution_count": null,
   "id": "46443317-59fa-4cf3-ade5-0272fb130596",
   "metadata": {},
   "outputs": [],
   "source": [
    "src_grid = Grid(pyproj.CRS(\"EPSG:32645\"), Axis(2400000.0, -10.0, 10980), Axis(699960, 10.0, 10980), 2748, 5492)\n",
    "target_crs = pyproj.CRS(\"EPSG:4326\")\n",
    "r = Reprojector(src_grid)\n",
    "r.create_transformer(target_crs)\n",
    "r.create_covering_target_grid(-0.0002, 0.0002, -0.4, 0.4)\n",
    "print(r.target_grid)"
   ]
  },
  {
   "cell_type": "code",
   "execution_count": null,
   "id": "40a9a74c-7531-4160-8bc9-d057ba931943",
   "metadata": {},
   "outputs": [],
   "source": [
    "r.create_inverse_pixel_index()\n",
    "repro_dask = r.reproject(l1c['B08'].data, l1c['B04'].data)"
   ]
  },
  {
   "cell_type": "code",
   "execution_count": null,
   "id": "5b69306a-1f89-43e2-b755-9fea12736954",
   "metadata": {},
   "outputs": [],
   "source": [
    "repro_dask"
   ]
  },
  {
   "cell_type": "code",
   "execution_count": null,
   "id": "22dbfb77-73ca-4559-9881-00c5e91ecbf0",
   "metadata": {},
   "outputs": [],
   "source": [
    "repro_dask.visualize()"
   ]
  },
  {
   "cell_type": "markdown",
   "id": "fe99985d-9f62-4520-9615-5f03d291d239",
   "metadata": {},
   "source": [
    "The graph has 8 input chunks per band. There are 9 output chunks."
   ]
  },
  {
   "cell_type": "code",
   "execution_count": null,
   "id": "39f72f02-a423-4c2c-aaca-d5ea306346b5",
   "metadata": {},
   "outputs": [],
   "source": [
    "%%time\n",
    "repro_dask.compute()"
   ]
  },
  {
   "cell_type": "code",
   "execution_count": null,
   "id": "e82bc78d-a34a-4755-8bd0-67d06e13dd46",
   "metadata": {},
   "outputs": [],
   "source": [
    "%matplotlib inline\n",
    "fig = plt.figure(figsize=(5, 5))\n",
    "plt.imshow(repro_dask.compute()[0], cmap='RdYlGn');"
   ]
  },
  {
   "cell_type": "markdown",
   "id": "f5c8a9e9-5a05-46a0-84fc-003a9cbeb645",
   "metadata": {},
   "source": [
    "Distortion is small here."
   ]
  },
  {
   "cell_type": "code",
   "execution_count": null,
   "id": "a3c2f467-cb68-4288-8cac-9a467c7be2b6",
   "metadata": {},
   "outputs": [],
   "source": [
    "%matplotlib inline\n",
    "fig = plt.figure(figsize=(5, 5))\n",
    "plt.imshow(l1c['B08'], cmap='RdYlGn');"
   ]
  },
  {
   "cell_type": "code",
   "execution_count": null,
   "id": "970c26a3-deff-4dde-9c0e-81750e76a15b",
   "metadata": {},
   "outputs": [],
   "source": []
  }
 ],
 "metadata": {
  "kernelspec": {
   "display_name": "xcube-resampling",
   "language": "python",
   "name": "xcube-resampling"
  },
  "language_info": {
   "codemirror_mode": {
    "name": "ipython",
    "version": 3
   },
   "file_extension": ".py",
   "mimetype": "text/x-python",
   "name": "python",
   "nbconvert_exporter": "python",
   "pygments_lexer": "ipython3",
   "version": "3.10.0"
  }
 },
 "nbformat": 4,
 "nbformat_minor": 5
}
